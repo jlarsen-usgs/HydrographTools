{
 "cells": [
  {
   "cell_type": "markdown",
   "metadata": {
    "collapsed": true
   },
   "source": [
    "Simple notebook to create hydrographs from HOB output and HYDMOD output\n",
    "\n",
    "Begin by importing the HobsOut and HydModOut modules and setting up files to read"
   ]
  },
  {
   "cell_type": "code",
   "execution_count": null,
   "metadata": {},
   "outputs": [],
   "source": [
    "from hobs_output import HobsOut\n",
    "from hydmod_output import HydModOut\n",
    "import matplotlib.pyplot as plt\n",
    "import os\n",
    "\n",
    "ws = \".\"\n",
    "hobs = \"Hobs.out\"\n",
    "hydmod = \"Hydmod.out\""
   ]
  },
  {
   "cell_type": "markdown",
   "metadata": {},
   "source": [
    "Load data using the HobsOut and HydModOut modules and set a start date for hydmod and the model's ITMUNI"
   ]
  },
  {
   "cell_type": "code",
   "execution_count": null,
   "metadata": {},
   "outputs": [],
   "source": [
    "hobs = HobsOut(os.path.join(ws, hobs))\n",
    "hydmod = HydModOut(os.path.join(ws, hydmod))\n",
    "\n",
    "hydmod.date_time('12-31-1941', itmuni='days')\n"
   ]
  },
  {
   "cell_type": "markdown",
   "metadata": {},
   "source": [
    "Define a filter for data processing and plotting that can be passed in many of the HobsOut methods.\n",
    "\n",
    "True means the observation will be filtered out and not considered"
   ]
  },
  {
   "cell_type": "code",
   "execution_count": null,
   "metadata": {},
   "outputs": [],
   "source": [
    "def filter(obsname):\n",
    "    if obsname.endswith(\"D\"):\n",
    "        return True\n",
    "    elif obsname in (\"04N01E23K01S\",\n",
    "                     \"04N01E23K02S\",\n",
    "                     \"04N01E23R01S\"):\n",
    "        return True\n",
    "    return False\n"
   ]
  },
  {
   "cell_type": "markdown",
   "metadata": {},
   "source": [
    "Let's look at the observations available in the HobsOut object"
   ]
  },
  {
   "cell_type": "code",
   "execution_count": null,
   "metadata": {},
   "outputs": [],
   "source": [
    "hobs.keys()\n"
   ]
  },
  {
   "cell_type": "markdown",
   "metadata": {},
   "source": [
    "Now lets plot a hydrograph!"
   ]
  },
  {
   "cell_type": "code",
   "execution_count": null,
   "metadata": {},
   "outputs": [],
   "source": [
    "fig, ax = plt.subplots()\n",
    "ax = hydmod.plot(\"04N01W01R04S\", lw=1.5, strip_initial=True, ax=ax)\n",
    "ax = hobs.plot(\"04N01W01R04S\", \"o--\", ax=ax)\n",
    "\n",
    "# get the sum of square error and RMSE and add them to the graph\n",
    "sq_err = hobs.get_sum_squared_errors(\"04N01W01R04S\")\n",
    "rmse = hobs.get_rmse(\"04N01W01R04S\")\n",
    "ax.text(0.70, 0.93,\n",
    "        r'$\\sum \\varepsilon^2\\ =$ {:.2f}'.format(sq_err),\n",
    "        transform=ax.transAxes)\n",
    "\n",
    "ax.text(0.70, 0.87,\n",
    "        r'$RMSE\\ =$ {:.2f}'.format(rmse),\n",
    "        transform=ax.transAxes)\n",
    "\n",
    "# add a legend to the chart\n",
    "ax.legend(loc=3, numpoints=1, fontsize=12)\n",
    "\n",
    "# finally labels, title and add gridlines\n",
    "plt.ylabel('WL')\n",
    "plt.xlabel('Date')\n",
    "plt.title(\"04N01W01R04S\")\n",
    "plt.grid(True)"
   ]
  },
  {
   "cell_type": "markdown",
   "metadata": {},
   "source": [
    "Next let's grab the sum of sqaure errors and RMSE for the site"
   ]
  },
  {
   "cell_type": "code",
   "execution_count": null,
   "metadata": {},
   "outputs": [],
   "source": [
    "\n",
    "axes = hobs.plot_measured_vs_simulated(filter=filter)\n",
    "lim = [2700, 3000]\n",
    "axes.plot(lim, lim, 'k')\n",
    "axes.set_ylim([2700, 3000])\n",
    "axes.set_xlim([2700, 3000])\n",
    "plt.xlabel(\"Measured water level, in feet\")\n",
    "plt.ylabel(\"Simulated head, in feet\")"
   ]
  },
  {
   "cell_type": "markdown",
   "metadata": {},
   "source": [
    "Let's add a legend and write the statistics to the hydrograph"
   ]
  },
  {
   "cell_type": "code",
   "execution_count": null,
   "metadata": {},
   "outputs": [],
   "source": [
    "axes = hobs.plot_simulated_vs_residual(filter=filter)\n",
    "axes.plot([2700, 3000], [0, 0], 'k')\n",
    "axes.set_ylim([-60, 100])\n",
    "axes.set_xlim([2700, 3000])\n",
    "plt.xlabel(\"Simulated head, in feet\")\n",
    "plt.ylabel(\"Residual, in feet\")\n",
    "plt.show()"
   ]
  },
  {
   "cell_type": "markdown",
   "metadata": {},
   "source": [
    "There is much more you can do with these tools. These are just the basics. Just ask--jlarsen@usgs.gov"
   ]
  }
 ],
 "metadata": {
  "kernelspec": {
   "display_name": "Python 3",
   "language": "python",
   "name": "python3"
  },
  "language_info": {
   "codemirror_mode": {
    "name": "ipython",
    "version": 3
   },
   "file_extension": ".py",
   "mimetype": "text/x-python",
   "name": "python",
   "nbconvert_exporter": "python",
   "pygments_lexer": "ipython3",
   "version": "3.6.4"
  }
 },
 "nbformat": 4,
 "nbformat_minor": 1
}
